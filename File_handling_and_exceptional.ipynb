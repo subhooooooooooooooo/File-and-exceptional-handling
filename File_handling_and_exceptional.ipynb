{
  "nbformat": 4,
  "nbformat_minor": 0,
  "metadata": {
    "colab": {
      "provenance": []
    },
    "kernelspec": {
      "name": "python3",
      "display_name": "Python 3"
    },
    "language_info": {
      "name": "python"
    }
  },
  "cells": [
    {
      "cell_type": "markdown",
      "source": [
        "1 .What is the difference between interpreted and compiled languages?\n",
        "     Interpreted: Code is executed line-by-line by an interpreter (e.g., Python).Compiled: Code is translated into machine code before execution (e.g., C++).\n",
        "\n",
        "2 What is exception handling in Python?\n",
        "Exception handling lets you manage runtime errors using try, except, else, and finally blocks.\n",
        "\n",
        "3. What is the purpose of the finally block in exception handling?\n",
        "The finally block executes regardless of whether an exception occurred, typically for cleanup tasks like closing files.\n",
        "\n",
        "4 What is logging in Python?\n",
        "Logging records events during a program's execution, useful for debugging, monitoring, and auditing.\n",
        "\n",
        "5  What is the significance of the __del__ method in Python?\n",
        "The __del__ method is a destructor called when an object is about to be destroyed. It can be used to clean up resources.\n",
        "\n",
        "6 What is the difference between import and from ... import in Python?\n",
        "   import module: Imports the entire module (e.g., math.sqrt) from module import name: Imports a specific function or class (e.g., sqrt())\n",
        "\n",
        "7 How can you handle multiple exceptions in Python?\n",
        "Use multiple except blocks or a single block with a tuple:\n",
        "try:\n",
        "    ...\n",
        "except (TypeError, ValueError):\n",
        "    ...\n",
        "8 What is the purpose of the with statement when handling files in Python?\n",
        "It ensures the file is properly closed after its suite finishes, even if exceptions occur.\n",
        "\n",
        "9 What is the difference between multithreading and multiprocessing?\n",
        "•\tMultithreading: Runs multiple threads within the same process (shared memory).\n",
        "•\tMultiprocessing: Runs multiple processes with separate memory (better for CPU-bound tasks).\n",
        "\n",
        "10 What are the advantages of using logging in a program?\n",
        "•\tTracks errors and events\n",
        "•\tUseful for debugging\n",
        "•\tCan log to files, consoles, or remote servers\n",
        "•\tHelps in maintaining and auditing code\n",
        "\n",
        "11 What is memory management in Python?\n",
        "Python automatically handles memory using reference counting and garbage collection to free unused memory.\n",
        "\n",
        "12 What are the basic steps involved in exception handling in Python?\n",
        "1.\tUse try block to write risky code\n",
        "2.\tCatch exceptions using except\n",
        "3.\t(Optional) Use else for code that runs if no exception occurs\n",
        "4.\t(Optional) Use finally for cleanup\n",
        "\n",
        "13 Why is memory management important in Python?\n",
        "Efficient memory use prevents leaks, improves performance, and ensures the program doesn’t crash due to resource exhaustion.\n",
        "\n",
        "14 What is the role of try and except in exception handling?\n",
        "•\ttry: Block of code to test for errors\n",
        "•\texcept: Block to handle the error if it occurs\n",
        "\n",
        "15 How does Python's garbage collection system work?\n",
        "It uses reference counting and a cyclic garbage collector to automatically reclaim memory from objects no longer in use.\n",
        "\n",
        "16 What is the purpose of the else block in exception handling?\n",
        "The else block runs if no exceptions occur in the try block.\n",
        "\n",
        "17 What are the common logging levels in Python?\n",
        "•\tDEBUG\n",
        "•\tINFO\n",
        "•\tWARNING\n",
        "•\tERROR\n",
        "•\tCRITICAL\n",
        "\n",
        "18  What is the difference between os.fork() and multiprocessing in Python?\n",
        "•\tos.fork(): Unix-only; creates a child process by duplicating the current process.\n",
        "•\tmultiprocessing: Cross-platform; higher-level API for running parallel tasks in separate processes.\n",
        "\n",
        "19 What is the importance of closing a file in Python?\n",
        "Closing a file frees system resources and ensures data is properly written to disk.\n",
        "\n",
        "20 What is the difference between file.read() and file.readline() in Python?\n",
        "•\tread(): Reads the entire file\n",
        "•\treadline(): Reads one line at a time\n",
        "\n",
        "21 What is the logging module in Python used for?\n",
        "It provides a flexible framework to log messages for applications, which can be directed to different outputs like files or consoles.\n",
        "\n",
        "22 What is the os module in Python used for in file handling?\n",
        "It provides functions to interact with the operating system, like file path manipulation, deleting files, and working with directories.\n",
        "\n",
        "23 What are the challenges associated with memory management in Python?\n",
        "•\tDetecting and cleaning circular references\n",
        "•\tManaging memory in long-running processes\n",
        "•\tEnsuring timely cleanup of large objects\n",
        "\n",
        "24   How do you raise an exception manually in Python\n",
        "We can use the raise keyword to manually trigger an exception or can raise built-in exceptions or create custom ones using classes derived from Exception.\n",
        "\n",
        "25 Why is it important to use multithreading in certain applications?\n",
        " When we want to perform multiple I/O-bound tasks concurrently, like reading from a file while downloading data and need to keep the application responsive, such as in GUI or web applications. we want to improve resource utilization, especially when tasks spend time waiting (e.g., network requests).\n",
        "\n",
        "\n"
      ],
      "metadata": {
        "id": "dWuc7uO7Bpb7"
      }
    },
    {
      "cell_type": "code",
      "execution_count": 2,
      "metadata": {
        "id": "H2xZ80mkBW1_"
      },
      "outputs": [],
      "source": [
        "# 1 How can you open a file for writing in Python and write a string to it\n",
        "\n",
        "with open('output.txt', 'w') as file:\n",
        "    file.write(\"Hello, this is a test string.\")\n"
      ]
    },
    {
      "cell_type": "code",
      "source": [
        "# 2 Write a Python program to read the contents of a file and print each line\n",
        "\n",
        "with open('input.txt', 'r') as file:\n",
        "    for line in file:\n",
        "        print(line.strip())"
      ],
      "metadata": {
        "id": "1SyBnoZLCqf_"
      },
      "execution_count": null,
      "outputs": []
    },
    {
      "cell_type": "code",
      "source": [
        "# 3 How would you handle a case where the file doesn't exist while trying to open it for reading\u001f\n",
        "\n",
        "try:\n",
        "    with open('myfile.txt', 'r') as file:\n",
        "        data = file.read()\n",
        "except FileNotFoundError:\n",
        "    print(\"Error: The file does not exist.\")"
      ],
      "metadata": {
        "id": "bK8IqCxxMfpC"
      },
      "execution_count": null,
      "outputs": []
    },
    {
      "cell_type": "code",
      "source": [
        "# 4. Q: Write a Python script that reads from one file and writes its content to another file.\n",
        "with open('source.txt', 'r') as src, open('destination.txt', 'w') as dest:\n",
        "    for line in src:\n",
        "        dest.write(line)\n"
      ],
      "metadata": {
        "id": "gbgU2urvPM4h"
      },
      "execution_count": null,
      "outputs": []
    },
    {
      "cell_type": "code",
      "source": [
        "# 5. Q: How would you catch and handle a division by zero error in Python?\n",
        "\n",
        "try:\n",
        "    result = 10 / 0\n",
        "except ZeroDivisionError:\n",
        "    print(\"Cannot divide by zero.\")\n"
      ],
      "metadata": {
        "id": "fnJwAXIuPQua"
      },
      "execution_count": null,
      "outputs": []
    },
    {
      "cell_type": "code",
      "source": [
        "# 6. Q: Write a Python program that logs an error message to a log file when a division by zero exception occurs.\n",
        "import logging\n",
        "\n",
        "logging.basicConfig(filename='error.log', level=logging.ERROR)\n",
        "\n",
        "try:\n",
        "    result = 10 / 0\n",
        "except ZeroDivisionError as e:\n",
        "    logging.error(f\"Division by zero error: {e}\")\n"
      ],
      "metadata": {
        "id": "PXz18Ic5PUB6"
      },
      "execution_count": null,
      "outputs": []
    },
    {
      "cell_type": "code",
      "source": [
        "# 7. Q: How do you log information at different levels (INFO, ERROR, WARNING) in Python using the logging module?\n",
        "import logging\n",
        "\n",
        "logging.basicConfig(level=logging.DEBUG)\n",
        "\n",
        "logging.info(\"This is an info message.\")\n",
        "logging.warning(\"This is a warning.\")\n",
        "logging.error(\"This is an error.\")\n"
      ],
      "metadata": {
        "id": "0ZHsdoquPW1K"
      },
      "execution_count": null,
      "outputs": []
    },
    {
      "cell_type": "code",
      "source": [
        "# 8. Q: Write a program to handle a file opening error using exception handling.\n",
        "try:\n",
        "    with open('file.txt', 'r') as f:\n",
        "        data = f.read()\n",
        "except IOError:\n",
        "    print(\"An error occurred while opening the file.\")\n"
      ],
      "metadata": {
        "id": "yoSYLirMPZva"
      },
      "execution_count": null,
      "outputs": []
    },
    {
      "cell_type": "code",
      "source": [
        "# 9. Q: How can you read a file line by line and store its content in a list in Python?\n",
        "with open('file.txt', 'r') as f:\n",
        "    lines = f.readlines()"
      ],
      "metadata": {
        "id": "G7fgmv7aPfN6"
      },
      "execution_count": null,
      "outputs": []
    },
    {
      "cell_type": "code",
      "source": [
        "# 10. Q: How can you append data to an existing file in Python?\n",
        "with open('file.txt', 'a') as f:\n",
        "    f.write(\"Appended line\\n\")\n"
      ],
      "metadata": {
        "id": "DH1Z4VzYPiiT"
      },
      "execution_count": null,
      "outputs": []
    },
    {
      "cell_type": "code",
      "source": [
        "# 11. Q: Write a Python program that uses a try-except block to handle an error when attempting to access a dictionary key that doesn't exist.\n",
        "my_dict = {'name': 'Alice'}\n",
        "\n",
        "try:\n",
        "    print(my_dict['age'])\n",
        "except KeyError:\n",
        "    print(\"Key does not exist.\")\n"
      ],
      "metadata": {
        "id": "gw9TmZVPPlHR"
      },
      "execution_count": null,
      "outputs": []
    },
    {
      "cell_type": "code",
      "source": [
        "# 12. Q: Write a program that demonstrates using multiple except blocks to handle different types of exceptions.\n",
        "try:\n",
        "    num = int(\"abc\")\n",
        "    result = 10 / 0\n",
        "except ValueError:\n",
        "    print(\"Invalid conversion to integer.\")\n",
        "except ZeroDivisionError:\n",
        "    print(\"Division by zero error.\")\n"
      ],
      "metadata": {
        "id": "HhMJ07mBPoAC"
      },
      "execution_count": null,
      "outputs": []
    },
    {
      "cell_type": "code",
      "source": [
        "# 13. Q: How would you check if a file exists before attempting to read it in Python?\n",
        "import os\n",
        "\n",
        "if os.path.exists('file.txt'):\n",
        "    with open('file.txt', 'r') as f:\n",
        "        print(f.read())\n",
        "else:\n",
        "    print(\"File does not exist.\")\n"
      ],
      "metadata": {
        "id": "i4t8sQEBPqlq"
      },
      "execution_count": null,
      "outputs": []
    },
    {
      "cell_type": "code",
      "source": [
        "# 14. Q: Write a program that uses the logging module to log both informational and error messages.\n",
        "import logging\n",
        "\n",
        "logging.basicConfig(filename='app.log', level=logging.INFO)\n",
        "\n",
        "logging.info(\"Program started.\")\n",
        "try:\n",
        "    x = 1 / 0\n",
        "except ZeroDivisionError:\n",
        "    logging.error(\"Attempted division by zero.\")\n"
      ],
      "metadata": {
        "id": "y6SdzFmHPtUa"
      },
      "execution_count": null,
      "outputs": []
    },
    {
      "cell_type": "code",
      "source": [
        "# 15. Q: Write a Python program that prints the content of a file and handles the case when the file is empty.\n",
        "with open('file.txt', 'r') as f:\n",
        "    content = f.read()\n",
        "    if not content:\n",
        "        print(\"The file is empty.\")\n",
        "    else:\n",
        "        print(content)\n"
      ],
      "metadata": {
        "id": "VsAwhTuxPvu8"
      },
      "execution_count": null,
      "outputs": []
    },
    {
      "cell_type": "code",
      "source": [
        "# 16. Q: Demonstrate how to use memory profiling to check the memory usage of a small program.\n",
        "from memory_profiler import profile\n",
        "\n",
        "@profile\n",
        "def compute():\n",
        "    a = [i * 2 for i in range(100000)]\n",
        "    return sum(a)\n",
        "\n",
        "compute()\n"
      ],
      "metadata": {
        "id": "G4GT5qtvPzLi"
      },
      "execution_count": null,
      "outputs": []
    },
    {
      "cell_type": "code",
      "source": [
        "# 17. Q: Write a Python program to create and write a list of numbers to a file, one number per line.\n",
        "numbers = list(range(1, 11))\n",
        "\n",
        "with open('numbers.txt', 'w') as f:\n",
        "    for number in numbers:\n",
        "        f.write(f\"{number}\\n\")\n"
      ],
      "metadata": {
        "id": "7oLMchp5P2Ti"
      },
      "execution_count": null,
      "outputs": []
    },
    {
      "cell_type": "code",
      "source": [
        "# 18. Q: How would you implement a basic logging setup that logs to a file with rotation after 1MB?\n",
        "import logging\n",
        "from logging.handlers import RotatingFileHandler\n",
        "\n",
        "handler = RotatingFileHandler('rotating.log', maxBytes=1_000_000, backupCount=3)\n",
        "logging.basicConfig(handlers=[handler], level=logging.INFO)\n",
        "\n",
        "logging.info(\"This is a log message.\")\n"
      ],
      "metadata": {
        "id": "0DISfB9WP5Uy"
      },
      "execution_count": null,
      "outputs": []
    },
    {
      "cell_type": "code",
      "source": [
        "# 19. Q: Write a program that handles both IndexError and KeyError using a try-except block.\n",
        "my_list = [1, 2, 3]\n",
        "my_dict = {'a': 1}\n",
        "\n",
        "try:\n",
        "    print(my_list[10])\n",
        "    print(my_dict['b'])\n",
        "except IndexError:\n",
        "    print(\"List index out of range.\")\n",
        "except KeyError:\n",
        "    print(\"Dictionary key not found.\")\n"
      ],
      "metadata": {
        "id": "btNpMy9iP7zL"
      },
      "execution_count": null,
      "outputs": []
    },
    {
      "cell_type": "code",
      "source": [
        "# 20. Q: How would you open a file and read its contents using a context manager in Python?\n",
        "with open('file.txt', 'r') as f:\n",
        "    content = f.read()\n",
        "    print(content)\n"
      ],
      "metadata": {
        "id": "cePii6n-P-Fy"
      },
      "execution_count": null,
      "outputs": []
    },
    {
      "cell_type": "code",
      "source": [
        "# 21. Q: Write a Python program that reads a file and prints the number of occurrences of a specific word.\n",
        "word_to_count = \"python\"\n",
        "\n",
        "with open('file.txt', 'r') as f:\n",
        "    content = f.read()\n",
        "    count = content.lower().count(word_to_count.lower())\n",
        "\n",
        "print(f\"'{word_to_count}' occurred {count} times.\")\n"
      ],
      "metadata": {
        "id": "pLP-SM7tQAqE"
      },
      "execution_count": null,
      "outputs": []
    },
    {
      "cell_type": "code",
      "source": [
        "# 22. Q: How can you check if a file is empty before attempting to read its contents?\n",
        "import os\n",
        "\n",
        "if os.stat('file.txt').st_size == 0:\n",
        "    print(\"The file is empty.\")\n",
        "else:\n",
        "    with open('file.txt', 'r') as f:\n",
        "        print(f.read())\n"
      ],
      "metadata": {
        "id": "sznXwPdIQAzy"
      },
      "execution_count": null,
      "outputs": []
    },
    {
      "cell_type": "code",
      "source": [
        "# 23. Q: Write a Python program that writes to a log file when an error occurs during file handling.\n",
        "import logging\n",
        "\n",
        "logging.basicConfig(filename='file_error.log', level=logging.ERROR)\n",
        "\n",
        "try:\n",
        "    with open('nonexistent.txt', 'r') as f:\n",
        "        content = f.read()\n",
        "except Exception as e:\n",
        "    logging.error(f\"Error occurred while handling file: {e}\")\n"
      ],
      "metadata": {
        "id": "seUZ9SxbQLP6"
      },
      "execution_count": null,
      "outputs": []
    }
  ]
}